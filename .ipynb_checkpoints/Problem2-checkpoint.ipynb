{
 "cells": [
  {
   "cell_type": "markdown",
   "metadata": {},
   "source": [
    "# Problem 2"
   ]
  },
  {
   "cell_type": "code",
   "execution_count": 35,
   "metadata": {},
   "outputs": [],
   "source": [
    "from numpy.linalg import eig\n",
    "from numpy.random import multivariate_normal as MVN\n",
    "from sklearn.decomposition import PCA\n",
    "import numpy as np\n",
    "import matplotlib.pyplot as plt"
   ]
  },
  {
   "cell_type": "markdown",
   "metadata": {},
   "source": [
    "### Problem 2A"
   ]
  },
  {
   "cell_type": "code",
   "execution_count": 43,
   "metadata": {},
   "outputs": [
    {
     "name": "stdout",
     "output_type": "stream",
     "text": [
      "Eigenvalues: [1. 1.]\n",
      "Eigenvectors: [[1. 0.]\n",
      " [0. 1.]]\n",
      "Ratios of explained variance: [0.5, 0.5]\n"
     ]
    }
   ],
   "source": [
    "m1 = [[1, 0],\n",
    "      [0, 1]]\n",
    "values, vectors = eig(m1)\n",
    "print(\"Eigenvalues:\", values)\n",
    "print(\"Eigenvectors:\", vectors)\n",
    "ratios = [values[0] / sum(values), values[1] / sum(values)]\n",
    "print(\"Ratios of explained variance:\", ratios)"
   ]
  },
  {
   "cell_type": "code",
   "execution_count": 44,
   "metadata": {},
   "outputs": [
    {
     "name": "stdout",
     "output_type": "stream",
     "text": [
      "Eigenvalues: [1.5 0.5]\n",
      "Eigenvectors: [[ 0.70710678 -0.70710678]\n",
      " [ 0.70710678  0.70710678]]\n",
      "Ratios of explained variance: [0.75, 0.25000000000000006]\n"
     ]
    }
   ],
   "source": [
    "m2 = [[1, 0.5],\n",
    "      [0.5, 1]]\n",
    "values, vectors = eig(m2)\n",
    "print(\"Eigenvalues:\", values)\n",
    "print(\"Eigenvectors:\", vectors)\n",
    "ratios = [values[0] / sum(values), values[1] / sum(values)]\n",
    "print(\"Ratios of explained variance:\", ratios)"
   ]
  },
  {
   "cell_type": "code",
   "execution_count": 45,
   "metadata": {},
   "outputs": [
    {
     "name": "stdout",
     "output_type": "stream",
     "text": [
      "Eigenvalues: [1.9 0.1]\n",
      "Eigenvectors: [[ 0.70710678 -0.70710678]\n",
      " [ 0.70710678  0.70710678]]\n",
      "Ratios of explained variance: [0.9500000000000002, 0.04999999999999989]\n"
     ]
    }
   ],
   "source": [
    "m3 = [[1, 0.9],\n",
    "      [0.9, 1]]\n",
    "values, vectors = eig(m3)\n",
    "print(\"Eigenvalues:\", values)\n",
    "print(\"Eigenvectors:\", vectors)\n",
    "ratios = [values[0] / sum(values), values[1] / sum(values)]\n",
    "print(\"Ratios of explained variance:\", ratios)"
   ]
  },
  {
   "cell_type": "code",
   "execution_count": 46,
   "metadata": {},
   "outputs": [
    {
     "ename": "SyntaxError",
     "evalue": "invalid syntax (<ipython-input-46-136a65b0830c>, line 9)",
     "output_type": "error",
     "traceback": [
      "\u001b[1;36m  File \u001b[1;32m\"<ipython-input-46-136a65b0830c>\"\u001b[1;36m, line \u001b[1;32m9\u001b[0m\n\u001b[1;33m    plt.title(str(i += 1))\u001b[0m\n\u001b[1;37m                     ^\u001b[0m\n\u001b[1;31mSyntaxError\u001b[0m\u001b[1;31m:\u001b[0m invalid syntax\n"
     ]
    }
   ],
   "source": [
    "pca = PCA(n_components=2)\n",
    "i = 0\n",
    "for m in [m1, m2, m3]:\n",
    "    i += 1\n",
    "    dist = MVN((1, 1), m, 1000)\n",
    "    plt.figure()\n",
    "    plt.scatter(dist[:, 0], dist1[:, 1])\n",
    "    plt.xlabel('X1')\n",
    "    plt.ylabel('X2')\n",
    "    plt.title(f'm{i}')\n",
    "    principalComponents = pca.fit(dist)\n",
    "    print(\"Explained variance ratios:\", pca.explained_variance_ratio_)\n",
    "    print(\"Singular values: \", pca.singular_values_)"
   ]
  },
  {
   "cell_type": "code",
   "execution_count": null,
   "metadata": {},
   "outputs": [],
   "source": []
  },
  {
   "cell_type": "code",
   "execution_count": null,
   "metadata": {},
   "outputs": [],
   "source": []
  }
 ],
 "metadata": {
  "kernelspec": {
   "display_name": "Python 3",
   "language": "python",
   "name": "python3"
  },
  "language_info": {
   "codemirror_mode": {
    "name": "ipython",
    "version": 3
   },
   "file_extension": ".py",
   "mimetype": "text/x-python",
   "name": "python",
   "nbconvert_exporter": "python",
   "pygments_lexer": "ipython3",
   "version": "3.6.7"
  }
 },
 "nbformat": 4,
 "nbformat_minor": 4
}
