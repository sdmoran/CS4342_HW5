{
 "cells": [
  {
   "cell_type": "markdown",
   "metadata": {},
   "source": [
    "# Problem 4"
   ]
  },
  {
   "cell_type": "code",
   "execution_count": 80,
   "metadata": {},
   "outputs": [],
   "source": [
    "import matplotlib.pyplot as plt\n",
    "import numpy as np\n",
    "import math\n",
    "import random\n",
    "import copy\n",
    "\n",
    "\n",
    "# Data given from the problem\n",
    "data = [\n",
    "    [1, 4, 1],\n",
    "    [1, 3, 1],\n",
    "    [0, 4, 1],\n",
    "    [4, 3, 1],\n",
    "    [6, 2, 1],\n",
    "    [4, 0, 1]\n",
    "]\n",
    "\n",
    "\n",
    "# Function to calculate Euclidean distance between two points\n",
    "def euclidean(p1, p2):\n",
    "    return math.sqrt((p1[0] - p2[0]) ** 2 + (p1[1] - p2[1]) ** 2)\n",
    "\n",
    "\n",
    "# Calculate the  centroids of each class of data\n",
    "def get_centroids():\n",
    "    c1count = 0\n",
    "    c2count = 0\n",
    "    c1 = [0, 0]\n",
    "    c2 = [0, 0]\n",
    "    for d in data:\n",
    "        if d[2] == 1:\n",
    "            c1[0] += d[0]\n",
    "            c1[1] += d[1]\n",
    "            c1count += 1\n",
    "        else:\n",
    "            c2[0] += d[0]\n",
    "            c2[1] += d[1]\n",
    "            c2count += 1\n",
    "    c1 = [c1[0] / c1count, c1[1] / c1count]\n",
    "    c2 = [c2[0] / c2count, c2[1] / c2count]\n",
    "    return c1, c2"
   ]
  },
  {
   "cell_type": "markdown",
   "metadata": {},
   "source": [
    "### Problem 4A: Plot the Data"
   ]
  },
  {
   "cell_type": "code",
   "execution_count": 81,
   "metadata": {},
   "outputs": [
    {
     "data": {
      "image/png": "[encoded data removed]",
      "text/plain": [
       "<Figure size 432x288 with 1 Axes>"
      ]
     },
     "metadata": {
      "needs_background": "light"
     },
     "output_type": "display_data"
    }
   ],
   "source": [
    "for d in data:\n",
    "    plt.scatter(d[0], d[1], color='k')"
   ]
  },
  {
   "cell_type": "markdown",
   "metadata": {},
   "source": [
    "### Problem 4B: Randomly Assign Cluster Labels"
   ]
  },
  {
   "cell_type": "code",
   "execution_count": 78,
   "metadata": {},
   "outputs": [
    {
     "name": "stdout",
     "output_type": "stream",
     "text": [
      "Randomly assigned cluster labels: \n",
      "Observation 1: 1\n",
      "Observation 2: 1\n",
      "Observation 3: 2\n",
      "Observation 4: 1\n",
      "Observation 5: 1\n",
      "Observation 6: 2\n"
     ]
    }
   ],
   "source": [
    "# Randomly assign cluster labels; do-twhile loop ensures at least 1 elt in each class\n",
    "while True:\n",
    "    for i in range(len(data)):\n",
    "        data[i][2] = random.randint(1, 2)\n",
    "    if len(set([elt[2] for elt in data])) == 2:\n",
    "        break\n",
    "        \n",
    "print(\"Randomly assigned cluster labels: \")\n",
    "for idx in range(len(data)):\n",
    "    print(f\"Observation {idx + 1}: {data[idx][2]}\")\n"
   ]
  },
  {
   "cell_type": "markdown",
   "metadata": {},
   "source": [
    "### Problem 4C: Calculate Centroids"
   ]
  },
  {
   "cell_type": "code",
   "execution_count": 77,
   "metadata": {},
   "outputs": [
    {
     "name": "stdout",
     "output_type": "stream",
     "text": [
      "Centroid 1:  [4.666666666666667, 1.6666666666666667]\n",
      "Centroid 2:  [0.6666666666666666, 3.6666666666666665]\n"
     ]
    },
    {
     "data": {
      "text/plain": [
       "<matplotlib.collections.PathCollection at 0x2e5cac30220>"
      ]
     },
     "execution_count": 77,
     "metadata": {},
     "output_type": "execute_result"
    },
    {
     "data": {
      "image/png": "[encoded data removed]",
      "text/plain": [
       "<Figure size 432x288 with 1 Axes>"
      ]
     },
     "metadata": {
      "needs_background": "light"
     },
     "output_type": "display_data"
    }
   ],
   "source": [
    "c1, c2 = get_centroids()\n",
    "print(\"Centroid 1: \", c1)\n",
    "print(\"Centroid 2: \", c2)\n",
    "\n",
    "for d in data:\n",
    "    color = 'r'\n",
    "    if d[2] == 1:\n",
    "        color = 'b'\n",
    "    plt.scatter(d[0], d[1], color=color)\n",
    "# Plot centroids as 'x's\n",
    "plt.scatter(c1[0], c1[1], marker='x', color='b')\n",
    "plt.scatter(c2[0], c2[1], marker='x', color='r')"
   ]
  },
  {
   "cell_type": "code",
   "execution_count": 79,
   "metadata": {},
   "outputs": [
    {
     "name": "stdout",
     "output_type": "stream",
     "text": [
      "Observation Labels After 1 Iterations: \n",
      "Observation 1: 2\n",
      "Observation 2: 2\n",
      "Observation 3: 2\n",
      "Observation 4: 1\n",
      "Observation 5: 1\n",
      "Observation 6: 2\n",
      "Observation Labels After 2 Iterations: \n",
      "Observation 1: 2\n",
      "Observation 2: 2\n",
      "Observation 3: 2\n",
      "Observation 4: 1\n",
      "Observation 5: 1\n",
      "Observation 6: 1\n",
      "Final Observation Labels: \n",
      "Observation 1: 2\n",
      "Observation 2: 2\n",
      "Observation 3: 2\n",
      "Observation 4: 1\n",
      "Observation 5: 1\n",
      "Observation 6: 1\n"
     ]
    },
    {
     "data": {
      "image/png": "[encoded data removed]",
      "text/plain": [
       "<Figure size 432x288 with 1 Axes>"
      ]
     },
     "metadata": {
      "needs_background": "light"
     },
     "output_type": "display_data"
    },
    {
     "data": {
      "image/png": "[encoded data removed]",
      "text/plain": [
       "<Figure size 432x288 with 1 Axes>"
      ]
     },
     "metadata": {
      "needs_background": "light"
     },
     "output_type": "display_data"
    },
    {
     "data": {
      "image/png": "[encoded data removed]",
      "text/plain": [
       "<Figure size 432x288 with 1 Axes>"
      ]
     },
     "metadata": {
      "needs_background": "light"
     },
     "output_type": "display_data"
    },
    {
     "data": {
      "image/png": "[encoded data removed]",
      "text/plain": [
       "<Figure size 432x288 with 1 Axes>"
      ]
     },
     "metadata": {
      "needs_background": "light"
     },
     "output_type": "display_data"
    },
    {
     "data": {
      "text/plain": [
       "<Figure size 432x288 with 0 Axes>"
      ]
     },
     "metadata": {},
     "output_type": "display_data"
    }
   ],
   "source": [
    "# Plot centroids as 'x's\n",
    "c1, c2 = get_centroids()\n",
    "plt.scatter(c1[0], c1[1], marker='x', color='b')\n",
    "plt.scatter(c2[0], c2[1], marker='x', color='r')\n",
    "\n",
    "# Plot points and centroids before updating classes\n",
    "for i in range(len(data)):\n",
    "    color = 'r'\n",
    "    if data[i][2] == 1:\n",
    "        color = 'b'\n",
    "    plt.scatter(data[i][0], data[i][1], color=color)\n",
    "plt.title(\"Classes and Centroids Before Updating\")\n",
    "\n",
    "plt.figure()\n",
    "\n",
    "\n",
    "prev_labels = []\n",
    "count = 0\n",
    "# Run until labels stop uppdating\n",
    "while True:\n",
    "    count += 1\n",
    "    prev_labels = copy.deepcopy(data)\n",
    "    # Update classes of each data point based on their distance to each centroid\n",
    "    for i in range(len(data)):\n",
    "        color = 'r'\n",
    "        # If euclidiean distance to 1 is less than 2, assign point to 1.\n",
    "        if euclidean(data[i], c1) < euclidean(data[i], c2):\n",
    "            data[i][2] = 1\n",
    "            color = 'b'\n",
    "        else:\n",
    "            data[i][2] = 2\n",
    "        plt.scatter(data[i][0], data[i][1], color=color)\n",
    "\n",
    "    # Update centroids based on updated class data points\n",
    "    c1, c2 = get_centroids()\n",
    "\n",
    "    plt.scatter(c1[0], c1[1], marker='x', color='b')\n",
    "    plt.scatter(c2[0], c2[1], marker='x', color='r')\n",
    "    \n",
    "\n",
    "    \n",
    "    if prev_labels == data:\n",
    "        plt.title(f\"Classes and Centroids After Done Updating\")\n",
    "        plt.figure()\n",
    "        print(\"Final Observation Labels: \")\n",
    "        for idx in range(len(data)):\n",
    "            print(f\"Observation {idx + 1}: {data[idx][2]}\")\n",
    "        break\n",
    "    else:\n",
    "        s = \"time\" if count == 1 else \"times\"\n",
    "        plt.title(f\"Classes and Centroids After Updating {count} {s}\")\n",
    "        plt.figure()\n",
    "        print(f\"Observation Labels After {count} Iterations: \")\n",
    "        for idx in range(len(data)):\n",
    "            print(f\"Observation {idx + 1}: {data[idx][2]}\")\n",
    "    \n",
    "\n",
    "\n"
   ]
  },
  {
   "cell_type": "code",
   "execution_count": null,
   "metadata": {},
   "outputs": [],
   "source": []
  }
 ],
 "metadata": {
  "kernelspec": {
   "display_name": "Python 3",
   "language": "python",
   "name": "python3"
  },
  "language_info": {
   "codemirror_mode": {
    "name": "ipython",
    "version": 3
   },
   "file_extension": ".py",
   "mimetype": "text/x-python",
   "name": "python",
   "nbconvert_exporter": "python",
   "pygments_lexer": "ipython3",
   "version": "3.8.0"
  }
 },
 "nbformat": 4,
 "nbformat_minor": 4
}
