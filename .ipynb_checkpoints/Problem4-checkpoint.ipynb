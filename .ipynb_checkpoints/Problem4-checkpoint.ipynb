{
 "cells": [
  {
   "cell_type": "markdown",
   "metadata": {},
   "source": [
    "# Problem 4"
   ]
  },
  {
   "cell_type": "code",
   "execution_count": 14,
   "metadata": {},
   "outputs": [],
   "source": [
    "import matplotlib.pyplot as plt\n",
    "import numpy as np\n",
    "import math\n",
    "import random\n",
    "\n",
    "\n",
    "# Data given from the problem\n",
    "data = [\n",
    "    [1, 4, 1],\n",
    "    [1, 3, 1],\n",
    "    [0, 4, 1],\n",
    "    [4, 3, 1],\n",
    "    [6, 2, 1],\n",
    "    [4, 0, 1]\n",
    "]\n",
    "\n",
    "\n",
    "# Function to calculate Euclidean distance between two points\n",
    "def euclidean(p1, p2):\n",
    "    return math.sqrt((p1[0] - p2[0]) ** 2 + (p1[1] - p2[1]) ** 2)\n",
    "\n",
    "\n",
    "# Calculate the  centroids of each class of data\n",
    "def get_centroids():\n",
    "    c1count = 0\n",
    "    c2count = 0\n",
    "    c1 = [0, 0]\n",
    "    c2 = [0, 0]\n",
    "    for d in data:\n",
    "        if d[2] == 1:\n",
    "            c1[0] += d[0]\n",
    "            c1[1] += d[1]\n",
    "            c1count += 1\n",
    "        else:\n",
    "            c2[0] += d[0]\n",
    "            c2[1] += d[1]\n",
    "            c2count += 1\n",
    "    c1 = [c1[0] / c1count, c1[1] / c1count]\n",
    "    c2 = [c2[0] / c2count, c2[1] / c2count]\n",
    "    return c1, c2"
   ]
  },
  {
   "cell_type": "code",
   "execution_count": 32,
   "metadata": {},
   "outputs": [
    {
     "name": "stdout",
     "output_type": "stream",
     "text": [
      "[[1, 4, 2], [1, 3, 1], [0, 4, 2], [4, 3, 2], [6, 2, 1], [4, 0, 2]]\n"
     ]
    },
    {
     "data": {
      "text/plain": [
       "Text(0.5, 1.0, 'Classes and Centroids After Updating')"
      ]
     },
     "execution_count": 32,
     "metadata": {},
     "output_type": "execute_result"
    },
    {
     "data": {
      "image/png": "[encoded data removed]",
      "text/plain": [
       "<Figure size 432x288 with 1 Axes>"
      ]
     },
     "metadata": {
      "needs_background": "light"
     },
     "output_type": "display_data"
    },
    {
     "data": {
      "image/png": "[encoded data removed]",
      "text/plain": [
       "<Figure size 432x288 with 1 Axes>"
      ]
     },
     "metadata": {
      "needs_background": "light"
     },
     "output_type": "display_data"
    }
   ],
   "source": [
    "# Randomly assign cluster labels; do-twhile loop ensures at least 1 elt in each class\n",
    "while True:\n",
    "    for i in range(len(data)):\n",
    "        data[i][2] = random.randint(1, 2)\n",
    "    if len(set([elt[2] for elt in data])) == 2:\n",
    "        break\n",
    "\n",
    "print(data)\n",
    "c1, c2 = get_centroids()\n",
    "\n",
    "# Plot centroids as 'x's\n",
    "plt.scatter(c1[0], c1[1], marker='x', color='b')\n",
    "plt.scatter(c2[0], c2[1], marker='x', color='r')\n",
    "\n",
    "# Plot points and centroids before updating classes\n",
    "for i in range(len(data)):\n",
    "    color = 'r'\n",
    "    if data[i][2] == 1:\n",
    "        color = 'b'\n",
    "    plt.scatter(data[i][0], data[i][1], color=color)\n",
    "plt.title(\"Classes and Centroids Before Updating\")\n",
    "\n",
    "plt.figure()\n",
    "\n",
    "# Update classes of each data point based on their distance to each centroid\n",
    "for i in range(len(data)):\n",
    "    color = 'r'\n",
    "    # If euclidiean distance to 1 is less than 2, assign point to 1.\n",
    "    if euclidean(data[i], c1) < euclidean(data[i], c2):\n",
    "        data[i][2] = 1\n",
    "        color = 'b'\n",
    "    else:\n",
    "        data[i][2] = 2\n",
    "    plt.scatter(data[i][0], data[i][1], color=color)\n",
    "\n",
    "# Update centroids based on updated class data points\n",
    "c1, c2 = get_centroids()\n",
    "\n",
    "plt.scatter(c1[0], c1[1], marker='x', color='b')\n",
    "plt.scatter(c2[0], c2[1], marker='x', color='r')\n",
    "plt.title(\"Classes and Centroids After Updating\")"
   ]
  },
  {
   "cell_type": "code",
   "execution_count": null,
   "metadata": {},
   "outputs": [],
   "source": []
  },
  {
   "cell_type": "code",
   "execution_count": null,
   "metadata": {},
   "outputs": [],
   "source": []
  }
 ],
 "metadata": {
  "kernelspec": {
   "display_name": "Python 3",
   "language": "python",
   "name": "python3"
  },
  "language_info": {
   "codemirror_mode": {
    "name": "ipython",
    "version": 3
   },
   "file_extension": ".py",
   "mimetype": "text/x-python",
   "name": "python",
   "nbconvert_exporter": "python",
   "pygments_lexer": "ipython3",
   "version": "3.6.8"
  }
 },
 "nbformat": 4,
 "nbformat_minor": 4
}
