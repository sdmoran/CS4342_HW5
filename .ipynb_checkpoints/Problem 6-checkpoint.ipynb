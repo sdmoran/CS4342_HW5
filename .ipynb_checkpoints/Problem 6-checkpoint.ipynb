{
 "cells": [
  {
   "cell_type": "markdown",
   "metadata": {},
   "source": [
    "# Problem 6"
   ]
  },
  {
   "cell_type": "code",
   "execution_count": 13,
   "metadata": {},
   "outputs": [
    {
     "name": "stdout",
     "output_type": "stream",
     "text": [
      "Votes for red: 4\n",
      "Votes for green: 6\n",
      "Chance data belongs to class red: 0.45\n"
     ]
    }
   ],
   "source": [
    "import math\n",
    "# If probability is >0.5, it's a vote for class red; otherwise, a vote for class green.\n",
    "data = [0.1, 0.15, 0.2, 0.2, 0.55, 0.6, 0.6, 0.65, 0.7, 0.75]\n",
    "\n",
    "# Majority vote:\n",
    "red = len([i for i in data if i < 0.5])\n",
    "green = len([i for i in data if i > 0.5])\n",
    "\n",
    "print(f\"Votes for red: {red}\")\n",
    "print(f\"Votes for green: {green}\")\n",
    "\n",
    "# Average probability:\n",
    "print(\"Chance data belongs to class red: %s\" %(sum(data) / len(data)))\n"
   ]
  },
  {
   "cell_type": "markdown",
   "metadata": {},
   "source": [
    "### Discussion\n",
    "Under the first approach, the majority vote of estimators places the data sample in class \"red.\" However, the second approach, using the average of all probability estimates, places the data sample in class \"green.\" Although more estimators think the data point is in class \"red,\" they have a low 'confidence' in their decision, as they are close to 0.5. On the other hand, the estimators that vote AGAINST this data point being in class \"red\" are VERY confident in their decisions, giving only 10-20% chance that the data point is in class \"red.\""
   ]
  },
  {
   "cell_type": "code",
   "execution_count": null,
   "metadata": {},
   "outputs": [],
   "source": []
  }
 ],
 "metadata": {
  "kernelspec": {
   "display_name": "Python 3",
   "language": "python",
   "name": "python3"
  },
  "language_info": {
   "codemirror_mode": {
    "name": "ipython",
    "version": 3
   },
   "file_extension": ".py",
   "mimetype": "text/x-python",
   "name": "python",
   "nbconvert_exporter": "python",
   "pygments_lexer": "ipython3",
   "version": "3.8.0"
  }
 },
 "nbformat": 4,
 "nbformat_minor": 4
}
